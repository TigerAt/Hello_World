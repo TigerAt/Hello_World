{
 "cells": [
  {
   "cell_type": "markdown",
   "metadata": {},
   "source": [
    "### xpath在爬虫中的使用流程\n",
    "  - 1.下载：pip install lxml\n",
    "  - 2.导包：from lxml import etree\n",
    "  - 3.创建etree对象进行指定数据的解析\n",
    "    - 本地：tree=etree.parse('本地文件路径')\n",
    "          tree.xpath('xpath表达式')\n",
    "    - 网络：tree=etree.HTML('网络请求到的页面数据')\n",
    "          tree.xpath('xpath表达式')\n",
    "    \n",
    "### xpath插件\n",
    "  - 作用：可以直接将xpath表达式作用于浏览器的网页当中\n",
    "  - 安装（以chrom为例）：更多工具->扩展程序->开启右上角的开发者模式->xpath插件拖动到页面即可\n",
    "  - 快捷键：开启和关闭xpath插件：ctrl+shift+x"
   ]
  },
  {
   "cell_type": "code",
   "execution_count": 21,
   "metadata": {},
   "outputs": [],
   "source": [
    "from lxml import etree\n",
    "#xpath函数返回的总是一个列表"
   ]
  },
  {
   "cell_type": "code",
   "execution_count": 6,
   "metadata": {},
   "outputs": [],
   "source": [
    "#创建etree对象进行数据解析\n",
    "tree=etree.parse('./测试HTML文件.html')"
   ]
  },
  {
   "cell_type": "code",
   "execution_count": 5,
   "metadata": {},
   "outputs": [
    {
     "data": {
      "text/plain": [
       "[<Element div at 0x1d7d0b951c8>]"
      ]
     },
     "execution_count": 5,
     "metadata": {},
     "output_type": "execute_result"
    }
   ],
   "source": [
    "#属性定位：根据指定的属性定位到指定的节点标签\n",
    "tree.xpath('//div[@class=\"song\"]')"
   ]
  },
  {
   "cell_type": "code",
   "execution_count": 7,
   "metadata": {},
   "outputs": [
    {
     "data": {
      "text/plain": [
       "[<Element a at 0x1d7d0f50f08>]"
      ]
     },
     "execution_count": 7,
     "metadata": {},
     "output_type": "execute_result"
    }
   ],
   "source": [
    "#层级&索引定位\n",
    "tree.xpath('//div[@class=\"tang\"]/ul/li[2]/a')"
   ]
  },
  {
   "cell_type": "code",
   "execution_count": 8,
   "metadata": {},
   "outputs": [
    {
     "data": {
      "text/plain": [
       "[<Element a at 0x1d7d0f19488>]"
      ]
     },
     "execution_count": 8,
     "metadata": {},
     "output_type": "execute_result"
    }
   ],
   "source": [
    "#逻辑定位\n",
    "tree.xpath('//a[@href=\"\" and @class=\"du\"]')"
   ]
  },
  {
   "cell_type": "code",
   "execution_count": 9,
   "metadata": {},
   "outputs": [
    {
     "data": {
      "text/plain": [
       "[<Element div at 0x1d7d0efb188>, <Element div at 0x1d7d0f50f48>]"
      ]
     },
     "execution_count": 9,
     "metadata": {},
     "output_type": "execute_result"
    }
   ],
   "source": [
    "#模糊匹配\n",
    "tree.xpath('//div[contains(@class,\"ng\")]')"
   ]
  },
  {
   "cell_type": "code",
   "execution_count": 10,
   "metadata": {},
   "outputs": [
    {
     "data": {
      "text/plain": [
       "[<Element div at 0x1d7d0f50f48>]"
      ]
     },
     "execution_count": 10,
     "metadata": {},
     "output_type": "execute_result"
    }
   ],
   "source": [
    "tree.xpath('//div[starts-with(@class,\"ta\")]')"
   ]
  },
  {
   "cell_type": "code",
   "execution_count": 16,
   "metadata": {},
   "outputs": [
    {
     "data": {
      "text/plain": [
       "['李清照']"
      ]
     },
     "execution_count": 16,
     "metadata": {},
     "output_type": "execute_result"
    }
   ],
   "source": [
    "#取文本\n",
    "tree.xpath('//div[@class=\"song\"]/p[1]/text()')#/text()获取当前标签中直系存储的文本数据"
   ]
  },
  {
   "cell_type": "code",
   "execution_count": 12,
   "metadata": {},
   "outputs": [
    {
     "data": {
      "text/plain": [
       "['\\n        ',\n",
       " '\\n            ',\n",
       " '清明时节雨纷纷，路上行人欲断魂，借问酒家何处有，牧童遥指杏花村',\n",
       " '\\n            ',\n",
       " '秦时明月汉时关，万里长征人未还，但使龙城飞将在，不教胡马度阴山',\n",
       " '\\n            ',\n",
       " '岐王宅里寻常见，崔九堂前几度闻，正是江南好风景，落花时节又逢君',\n",
       " '\\n            ',\n",
       " '杜甫',\n",
       " '\\n            ',\n",
       " '杜牧',\n",
       " '\\n            ',\n",
       " '杜小月',\n",
       " '\\n            ',\n",
       " '度蜜月',\n",
       " '\\n            ',\n",
       " '凤凰台上凤凰游，凤去台空江自流，吴宫花草埋幽径，晋代衣冠成古丘',\n",
       " '\\n        ',\n",
       " '\\n    ']"
      ]
     },
     "execution_count": 12,
     "metadata": {},
     "output_type": "execute_result"
    }
   ],
   "source": [
    "tree.xpath('//div[@class=\"tang\"]//text()') #//text()获取某一个标签下所有子标签中存储的文本数据"
   ]
  },
  {
   "cell_type": "code",
   "execution_count": 20,
   "metadata": {},
   "outputs": [
    {
     "data": {
      "text/plain": [
       "['http://www.163.com']"
      ]
     },
     "execution_count": 20,
     "metadata": {},
     "output_type": "execute_result"
    }
   ],
   "source": [
    "#取属性\n",
    "tree.xpath('//div[@class=\"tang\"]//li[2]/a/@href')"
   ]
  },
  {
   "cell_type": "code",
   "execution_count": null,
   "metadata": {},
   "outputs": [],
   "source": []
  }
 ],
 "metadata": {
  "kernelspec": {
   "display_name": "Python 3",
   "language": "python",
   "name": "python3"
  },
  "language_info": {
   "codemirror_mode": {
    "name": "ipython",
    "version": 3
   },
   "file_extension": ".py",
   "mimetype": "text/x-python",
   "name": "python",
   "nbconvert_exporter": "python",
   "pygments_lexer": "ipython3",
   "version": "3.7.0"
  }
 },
 "nbformat": 4,
 "nbformat_minor": 2
}
