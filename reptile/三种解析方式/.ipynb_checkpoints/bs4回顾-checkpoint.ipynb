{
 "cells": [
  {
   "cell_type": "markdown",
   "metadata": {},
   "source": [
    "### Beatutifulsoup（bs4）解析：\n",
    "  - 特点：python独有。简单、便捷、高效\n",
    "  - 环境安装:\n",
    "      - 需要将pip源设置为国内源，阿里源、豆瓣源、网易源等\n",
    "        - windows\n",
    "         - （1）打开文件资源管理器(文件夹地址栏中)\n",
    "         - （2）地址栏上面输入 %appdata%\n",
    "         - （3）在这里面新建一个文件夹  pip\n",
    "         - （4）在pip文件夹里面新建一个文件叫做  pip.ini ,内容写如下即可\n",
    "            [global]\n",
    "            timeout = 6000\n",
    "            index-url = https://mirrors.aliyun.com/pypi/simple/\n",
    "            trusted-host = mirrors.aliyun.com\n",
    "        - linux\n",
    "         - （1）cd ~\n",
    "         - （2）mkdir ~/.pip\n",
    "         - （3）vi ~/.pip/pip.conf\n",
    "         - （4）编辑内容，和windows一模一样\n",
    "       - 需要安装：pip install bs4\n",
    "         - bs4在使用时候需要一个第三方库，把这个库也安装一下:pip install lxml\n",
    "\n",
    "   - 使用流程： \n",
    "       - 核心思想：可以将一个html文档，转化为BeautifulSoup对象，然后通过对象的方法或者属性去查找指定的节点内容\n",
    "       - 导包：from bs4 import BeautifulSoup\n",
    "       - 创建BeatifulSoup对象\n",
    "          - （1）转化本地文件：\n",
    "            soup = BeautifulSoup(open('本地文件'), 'lxml')\n",
    "          - （2）转化网络文件：\n",
    "            soup = BeautifulSoup('字符串类型或者字节类型', 'lxml')\n",
    "          - （3）打印soup对象显示内容为html文件中的内容（需调用对象的属性和方法等，即为指定内容的获取）"
   ]
  },
  {
   "cell_type": "code",
   "execution_count": 44,
   "metadata": {},
   "outputs": [],
   "source": [
    "#导包\n",
    "from bs4 import BeautifulSoup\n",
    "#此处读取文件最好指定与本地文件编码一致的字符编码，否则可能出错\n",
    "fp=open('测试HTML文件.html',encoding='utf-8')\n",
    "soup = BeautifulSoup(fp,'lxml')\n",
    "#根据标签名查找(只能找到第一个符合要求的标签)\n",
    "#soup.a\n",
    "\n",
    "#获取属性\n",
    "# 获取a所有的属性和属性值，返回一个字典\n",
    "#soup.a.attrs\n",
    "#soup.a.attrs['href']  # 获取href属性\n",
    "#soup.a['href']   #也可简写为这种形式\n",
    "\n",
    "#获取内容\n",
    "#soup.a.string #获取当前标签中直系存储的文本数据,类似于xpath中/text()\n",
    "soup.a.text #获取某一个标签下所有子标签中存储的文本数据,类似于xpath中//text()\n",
    "#soup.a.get_text() #作用与上一个属性所返回的值一致\n",
    "#ps:如果标签还有标签，那么string获取到的结果为None，而其它两个，可以获取文本内容\n",
    "\n",
    "#find:找到第一个符合要求的标签\n",
    "#soup.find('a')\n",
    " #可以根据任何属性进行查找\n",
    "#soup.find('a',href=\"\")\n",
    "#soup.find('a', class_=\"du\")\n",
    "\n",
    "#find_All：找到所有符合要求的标签\n",
    "#soup.find_all('a')\n",
    "#soup.find_all(['a','b']) #找到所有的a和b标签\n",
    "#soup.find_all('a', limit=2)  #限制前两个\n",
    "\n",
    "#select:根据选择器选择指定的内容\n",
    "# - 常见的选择器：标签选择器(a)、类选择器(.)、id选择器(#)、层级选择器\n",
    "#soup.select('#feng')\n",
    "#层级选择器：select选择器返回永远是列表，需要通过下标提取指定的对象\n",
    "#该对象是Tag类型，可以继续调用BeautifulSoup函数，对该对象表示的局部内容进行解析，此对象类型类似xpath的Element类型的对象\n",
    "#soup.select('div > ul > li')[0] # “>” 表示下面一级\n",
    "#soup.select('div li')[0] #“空格”表示多级\n",
    "fp.close()"
   ]
  },
  {
   "cell_type": "code",
   "execution_count": null,
   "metadata": {},
   "outputs": [],
   "source": []
  }
 ],
 "metadata": {
  "kernelspec": {
   "display_name": "Python 3",
   "language": "python",
   "name": "python3"
  },
  "language_info": {
   "codemirror_mode": {
    "name": "ipython",
    "version": 3
   },
   "file_extension": ".py",
   "mimetype": "text/x-python",
   "name": "python",
   "nbconvert_exporter": "python",
   "pygments_lexer": "ipython3",
   "version": "3.7.0"
  }
 },
 "nbformat": 4,
 "nbformat_minor": 2
}
