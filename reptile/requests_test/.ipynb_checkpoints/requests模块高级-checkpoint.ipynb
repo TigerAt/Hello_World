{
 "cells": [
  {
   "cell_type": "markdown",
   "metadata": {},
   "source": [
    "### requests高级模块\n",
    "  - cookie:\n",
    "    - cookie的作用：服务器端使用cookie来记录客户端的状态信息\n",
    "    - cookie实例\n",
    "      - 基于用户的用户数据\n",
    "        - 需求：爬取张三用户的豆瓣网的个人主页页面数据\n",
    "      - 实现流程\n",
    "        - 1.执行登录操作（获取cookie）\n",
    "        - 2.在发起个人主页请求的同时，需要将cookie携带到该请求中\n",
    "  - proxy:\n",
    "    - 代理：第三方代替本体执行相关的事物。生活：代购，微商，中介\n",
    "    - 为什么要使用代理？\n",
    "      - 反爬操作\n",
    "      - 反反爬手段\n",
    "    - 分类\n",
    "      - 正向代理：代替客户端获取数据\n",
    "      - 反向代理：代理服务器提供数据\n",
    "    - 免费代理ip的网站提供商\n",
    "      - www.goubanjia.com\n",
    "      - 快代理\n",
    "      - 西祠代理\n",
    "    - 实例\n",
    "      - 需求：使用代理使得在网页中获取到ip后拿到的是代理的ip而并非自己的真是互联网ip\n",
    "   "
   ]
  },
  {
   "cell_type": "code",
   "execution_count": 8,
   "metadata": {},
   "outputs": [
    {
     "name": "stdout",
     "output_type": "stream",
     "text": [
      "写入数据完毕\n"
     ]
    }
   ],
   "source": [
    "#cookie实例\n",
    "import requests\n",
    "\n",
    "session = requests.session()\n",
    "#1.发起登录请求：将cookie获取且存储到session对象中\n",
    "login_url = 'https://accounts.douban.com/j/mobile/login/basic'\n",
    "data = {\n",
    "    'ck': '',\n",
    "    'name': 'xxxxxxx',\n",
    "    'password': 'xxxxxx',\n",
    "    'remember': 'false',\n",
    "    'ticket': '',\n",
    "}\n",
    "headers = {\n",
    "    'User-Agent':'Mozilla/5.0 (Windows NT 10.0; Win64; x64) AppleWebKit/537.36 (KHTML, like Gecko) Chrome/67.0.3396.99 Safari/537.36'\n",
    "}\n",
    "#使用session发起post请求即获取cookie\n",
    "session.post(url = login_url,data = data,headers = headers)\n",
    "\n",
    "#2.对个人主页发起请求（session（cookie）），获取响应页面数据\n",
    "url = 'https://www.douban.com/people/TigerAt/'\n",
    "response = session.get(url = url ,headers = headers)\n",
    "page_text = response.text\n",
    "\n",
    "with open('./doubantest.html','w',encoding = 'utf-8') as fp:\n",
    "    fp.write(page_text)\n",
    "    print(\"写入数据完毕\")\n",
    "\n",
    "\n"
   ]
  },
  {
   "cell_type": "code",
   "execution_count": 7,
   "metadata": {},
   "outputs": [
    {
     "name": "stdout",
     "output_type": "stream",
     "text": [
      "数据写入完毕\n"
     ]
    }
   ],
   "source": [
    "import requests\n",
    "url = 'https://www.baidu.com/s?ie=utf-8&wd=ip'\n",
    "\n",
    "headers = {\n",
    "    'User-Agent':'Mozilla/5.0 (Windows NT 10.0; Win64; x64) AppleWebKit/537.36 (KHTML, like Gecko) Chrome/67.0.3396.99 Safari/537.36'\n",
    "}\n",
    "\n",
    "#将代理ip封装到字典\n",
    "proxy = {'https':'119.131.218.55:53281'}\n",
    "\n",
    "#更换网络IP\n",
    "response = requests.get(url=url,proxies=proxy,headers=headers)\n",
    "\n",
    "with open('./daili.html','w',encoding = 'utf-8') as fp:\n",
    "    fp.write(response.text)\n",
    "    print('数据写入完毕')"
   ]
  },
  {
   "cell_type": "code",
   "execution_count": null,
   "metadata": {},
   "outputs": [],
   "source": []
  },
  {
   "cell_type": "code",
   "execution_count": null,
   "metadata": {},
   "outputs": [],
   "source": []
  },
  {
   "cell_type": "code",
   "execution_count": null,
   "metadata": {},
   "outputs": [],
   "source": []
  },
  {
   "cell_type": "code",
   "execution_count": null,
   "metadata": {},
   "outputs": [],
   "source": []
  },
  {
   "cell_type": "code",
   "execution_count": null,
   "metadata": {},
   "outputs": [],
   "source": []
  }
 ],
 "metadata": {
  "kernelspec": {
   "display_name": "Python 3",
   "language": "python",
   "name": "python3"
  },
  "language_info": {
   "codemirror_mode": {
    "name": "ipython",
    "version": 3
   },
   "file_extension": ".py",
   "mimetype": "text/x-python",
   "name": "python",
   "nbconvert_exporter": "python",
   "pygments_lexer": "ipython3",
   "version": "3.7.0"
  }
 },
 "nbformat": 4,
 "nbformat_minor": 2
}
