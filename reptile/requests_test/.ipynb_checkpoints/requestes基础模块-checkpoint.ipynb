{
 "cells": [
  {
   "cell_type": "markdown",
   "metadata": {},
   "source": [
    "### requests模块\n",
    "   - 1.什么是requests模块\n",
    "       - python原生一个基于网络请求的模块，模拟浏览器发起请求\n",
    "   - 2.为什么要使用requests模块\n",
    "      - 弥补urllib的不足\n",
    "      - urllib的不足\n",
    "      - 1.手动处理url编码\n",
    "      - 2.手动处理post请求的参数\n",
    "      - 3.cookie和代理的操作比较繁琐\n",
    "         - cookie流程\n",
    "         - 创建一个cookiejar对象\n",
    "         - 创建一个handler对象\n",
    "         - 创建一个openner对象\n",
    "         - 代理流程\n",
    "         - 创建handler对象，代理ip和端口封装到该对象\n",
    "         - 创建openner对象\n",
    "   - 3.requests如何被使用\n",
    "      - 安装：pip install requests\n",
    "      - 使用流程：\n",
    "        1.指定url\n",
    "        2.使用requests模块发起请求\n",
    "        3.获取相应数据\n",
    "        4.进行持久化存储\n",
    "   - 4.通过5个基于requests模块的爬虫项目对该模块进行系统学习和巩固\n",
    "      - get请求\n",
    "      - post请求\n",
    "      - ajax的get请求\n",
    "      - ajax的post请求\n",
    "      - 综合\n",
    "       "
   ]
  },
  {
   "cell_type": "markdown",
   "metadata": {},
   "source": [
    "### 基于requests模块发起get请求\n",
    "   - 需求：爬取搜狗首页的页面数据"
   ]
  },
  {
   "cell_type": "code",
   "execution_count": 1,
   "metadata": {},
   "outputs": [
    {
     "name": "stdout",
     "output_type": "stream",
     "text": [
      "写入数据成功\n"
     ]
    }
   ],
   "source": [
    "import requests\n",
    "\n",
    "#指定url\n",
    "url = 'https://www.sogou.com'\n",
    "\n",
    "#发起get请求：get方法会返回请求成功的相应对象\n",
    "response = requests.get(url = url)\n",
    "\n",
    "#获取响应中的数据值：text可以获取响应对象中字符串形式的页面数据\n",
    "page_data = response.text\n",
    "\n",
    "#持久化操作\n",
    "with open ('./sogou.html','w',encoding='utf-8') as fp:\n",
    "    fp.write(page_data)\n",
    "    print(\"写入数据成功\")"
   ]
  },
  {
   "cell_type": "code",
   "execution_count": 6,
   "metadata": {},
   "outputs": [
    {
     "name": "stdout",
     "output_type": "stream",
     "text": [
      "https://www.sogou.com/\n"
     ]
    }
   ],
   "source": [
    "#response对象中其它重要属性\n",
    "import requests\n",
    "#指定url\n",
    "url = 'https://www.sogou.com'\n",
    "\n",
    "#发起get请求：get方法会返回请求成功的相应对象\n",
    "response = requests.get(url = url)\n",
    "\n",
    "#content获取的是response对象中二进制（byte）类型的页面数据\n",
    "#print(response.content)\n",
    "#返回一个响应状态码\n",
    "#print(response.status_code)\n",
    "#返回响应头信息\n",
    "#print(response.headers)\n",
    "#获取请求的url\n",
    "print(response.url)"
   ]
  },
  {
   "cell_type": "markdown",
   "metadata": {},
   "source": [
    "- resqutsts模块如何处理携带参数的get请求\n",
    "  - 需求：指定一个词条，获取搜狗搜索结果所对应的页面数据"
   ]
  },
  {
   "cell_type": "code",
   "execution_count": 7,
   "metadata": {},
   "outputs": [
    {
     "name": "stdout",
     "output_type": "stream",
     "text": [
      "写入数据成功\n"
     ]
    }
   ],
   "source": [
    "#方式1\n",
    "import requests\n",
    "\n",
    "url = 'https://www.sogou.com/web?query=周杰伦'\n",
    "\n",
    "response = requests.get(url = url)\n",
    "\n",
    "page_data = response.text\n",
    "\n",
    "with open ('./zhoujielun.html','w',encoding='utf-8') as fb:\n",
    "    fb.write(page_data)\n",
    "    print(\"写入数据成功\")"
   ]
  },
  {
   "cell_type": "code",
   "execution_count": 8,
   "metadata": {},
   "outputs": [
    {
     "name": "stdout",
     "output_type": "stream",
     "text": [
      "写入数据成功\n"
     ]
    }
   ],
   "source": [
    "#方式2\n",
    "import requests\n",
    "\n",
    "url = 'https://www.sogou.com/web'\n",
    "\n",
    "params = {\n",
    "    'query':'周杰伦'\n",
    "}\n",
    "\n",
    "response = requests.get(url = url ,params = params)\n",
    "\n",
    "page_data = response.text\n",
    "\n",
    "with open ('./zhoujielun2.html','w',encoding='utf-8') as fb:\n",
    "    fb.write(page_data)\n",
    "    print(\"写入数据成功\")"
   ]
  },
  {
   "cell_type": "code",
   "execution_count": 7,
   "metadata": {},
   "outputs": [
    {
     "data": {
      "text/plain": [
       "200"
      ]
     },
     "execution_count": 7,
     "metadata": {},
     "output_type": "execute_result"
    }
   ],
   "source": [
    "import requests\n",
    "\n",
    "# 自定义请求头信息\n",
    "headers = {\n",
    "    'User-Agent':'Mozilla/5.0 (Windows NT 10.0; Win64; x64) AppleWebKit/537.36 (KHTML, like Gecko) Chrome/67.0.3396.99 Safari/537.36'\n",
    "}\n",
    "\n",
    "url = 'https://www.sogou.com/web'\n",
    "\n",
    "params = {\n",
    "    'query':'周杰伦'\n",
    "}\n",
    "response = requests.get(url = url,params = params,headers=headers)\n",
    "\n",
    "response.status_code"
   ]
  },
  {
   "cell_type": "markdown",
   "metadata": {},
   "source": [
    "### 基于requests模块发起的post请求\n",
    "    - 需求：登录豆瓣网，获取登录成功后的页面数据"
   ]
  },
  {
   "cell_type": "code",
   "execution_count": 3,
   "metadata": {},
   "outputs": [
    {
     "name": "stdout",
     "output_type": "stream",
     "text": [
      "写入数据成功\n"
     ]
    }
   ],
   "source": [
    "\n",
    "import requests\n",
    "\n",
    "#指定url\n",
    "url = 'https://accounts.douban.com/login'\n",
    "\n",
    "data = {\n",
    "    'source': 'movie',\n",
    "    'redir': 'https://movie.douban.com/',\n",
    "    'name': 'xxxxxxx',\n",
    "    'password': 'xxxxxx',\n",
    "    'login': '登录',\n",
    "    \n",
    "}\n",
    "#以上用于登录的data及url仅适用于旧版登录，目前新版豆瓣已无法获取\n",
    "#可用如下字段(通过模拟登录失败获取的相应参数字段)，进行相应cookie获取（已测试通过），但无法完成成功后的页面数据的获取，相关方法仍在探索中\n",
    "'''\n",
    "url = 'https://accounts.douban.com/j/mobile/login/basic'\n",
    "data = {\n",
    "    'ck': '',\n",
    "    'name': 'xxxxxxx',\n",
    "    'password': 'xxxxxx',\n",
    "    'remember': 'false',\n",
    "    'ticket': '',\n",
    "}\n",
    "'''\n",
    "\n",
    "headers = {\n",
    "    'User-Agent':'Mozilla/5.0 (Windows NT 10.0; Win64; x64) AppleWebKit/537.36 (KHTML, like Gecko) Chrome/67.0.3396.99 Safari/537.36'\n",
    "}\n",
    "\n",
    "response = requests.post(url = url,data=data,headers=headers)\n",
    "\n",
    "page_text = response.text\n",
    "\n",
    "with open ('./douban.html','w',encoding='utf-8') as fb:\n",
    "    fb.write(page_text)\n",
    "    print(\"写入数据成功\")\n"
   ]
  },
  {
   "cell_type": "markdown",
   "metadata": {},
   "source": [
    "### 基于AJAX的get请求\n",
    "    - 需求：抓取豆瓣电影“豆瓣高分”电影信息"
   ]
  },
  {
   "cell_type": "code",
   "execution_count": 7,
   "metadata": {},
   "outputs": [
    {
     "name": "stdout",
     "output_type": "stream",
     "text": [
      "数据写入完毕\n"
     ]
    }
   ],
   "source": [
    "import requests\n",
    "\n",
    "url = 'https://movie.douban.com/j/search_subjects'\n",
    "\n",
    "params ={\n",
    "    'type': 'movie',\n",
    "    'tag': '豆瓣高分',\n",
    "    'sort': 'recommend',\n",
    "    'page_limit': '20',\n",
    "    'page_start': '0',\n",
    "}\n",
    "\n",
    "headers = {\n",
    "    'User-Agent':'Mozilla/5.0 (Windows NT 10.0; Win64; x64) AppleWebKit/537.36 (KHTML, like Gecko) Chrome/67.0.3396.99 Safari/537.36'\n",
    "}\n",
    "\n",
    "response = requests.get(url = url, params = params, headers = headers)\n",
    "\n",
    "page_data = response.text\n",
    "\n",
    "with open ('./豆瓣高分.json','w',encoding = 'utf-8') as fb:\n",
    "    fb.write(page_data)\n",
    "    print('数据写入完毕')\n",
    "\n",
    "\n"
   ]
  },
  {
   "cell_type": "markdown",
   "metadata": {},
   "source": [
    "### 基于AJAX的POST请求\n",
    "    - 抓取肯德基基于城市查询北京的餐厅地址信息"
   ]
  },
  {
   "cell_type": "code",
   "execution_count": 6,
   "metadata": {},
   "outputs": [
    {
     "name": "stdout",
     "output_type": "stream",
     "text": [
      "写入数据完毕\n"
     ]
    }
   ],
   "source": [
    "import requests\n",
    "\n",
    "url = 'http://www.kfc.com.cn/kfccda/ashx/GetStoreList.ashx?op=keyword'\n",
    "\n",
    "data = {\n",
    "    'cname': '',\n",
    "    'pid': '',\n",
    "    'keyword': '北京',\n",
    "    'pageIndex': '1',\n",
    "    'pageSize': '10',\n",
    "}\n",
    "\n",
    "headers = {\n",
    "    'User-Agent':'Mozilla/5.0 (Windows NT 10.0; Win64; x64) AppleWebKit/537.36 (KHTML, like Gecko) Chrome/67.0.3396.99 Safari/537.36'\n",
    "}\n",
    "\n",
    "response = requests.post(url = url,data = data,headers = headers)\n",
    "\n",
    "page_data = response.text\n",
    "\n",
    "with open('./KFC_address.json','w',encoding='utf-8') as fb:\n",
    "    fb.write(page_data)\n",
    "    print('写入数据完毕')\n"
   ]
  },
  {
   "cell_type": "markdown",
   "metadata": {},
   "source": [
    "### 综合项目实战\n",
    "    - 需求：抓取搜狗-知乎 指定词条在一定范围内的页面数据"
   ]
  },
  {
   "cell_type": "code",
   "execution_count": 1,
   "metadata": {},
   "outputs": [
    {
     "name": "stdout",
     "output_type": "stream",
     "text": [
      "enter a word:人工智能\n",
      "enter a start pageNum:1\n",
      "enter a start endNum:3\n",
      "第1页数据写入成功\n",
      "第2页数据写入成功\n",
      "第3页数据写入成功\n"
     ]
    }
   ],
   "source": [
    "import requests\n",
    "import os\n",
    "\n",
    "#创建一个文件夹\n",
    "if not os.path.exists('./pages'):\n",
    "    os.mkdir('./pages')\n",
    "\n",
    "#动态指定词条及页码的范围\n",
    "word = input('enter a word:')\n",
    "start_pageNum = int(input('enter a start pageNum:'))\n",
    "end_pageNum = int(input('enter a start endNum:'))\n",
    "\n",
    "#自定义请求头信息\n",
    "headers = {\n",
    "    'User-Agent':'Mozilla/5.0 (Windows NT 10.0; Win64; x64) AppleWebKit/537.36 (KHTML, like Gecko) Chrome/67.0.3396.99 Safari/537.36'\n",
    "}\n",
    "\n",
    "#指定url：设计成一个具有通用的url\n",
    "url = 'http://zhihu.sogou.com/zhihu'\n",
    "\n",
    "#获取响应中的页面数据（指定页码（page））\n",
    "for page in range(start_pageNum,end_pageNum+1):\n",
    "    params = {\n",
    "        'query':word,\n",
    "        'page':page,\n",
    "        'ie':'utf-8',\n",
    "    }\n",
    "    response = requests.get(url = url, params = params,headers = headers)\n",
    "    page_text = response.text\n",
    "    \n",
    "    #进行持久化存储\n",
    "    fileName = word + str(page)+'.html'\n",
    "    filePath = 'pages/'+fileName\n",
    "    with open(filePath,'w',encoding = 'utf-8') as fb:\n",
    "        fb.write(page_text)\n",
    "        print(\"第%d页数据写入成功\"%page)\n",
    "    \n",
    "    \n"
   ]
  },
  {
   "cell_type": "markdown",
   "metadata": {},
   "source": [
    "### 作业需求\n",
    "    - 爬取百度贴吧指定页面的数据值\n",
    "    - 爬取糗事百科"
   ]
  },
  {
   "cell_type": "markdown",
   "metadata": {},
   "source": [
    "### 作业1\n",
    "  - 需求：抓取百度贴吧指定页面的数据值"
   ]
  },
  {
   "cell_type": "code",
   "execution_count": 2,
   "metadata": {},
   "outputs": [],
   "source": [
    "#代码见本目录下‘百度贴吧_code.py’"
   ]
  },
  {
   "cell_type": "markdown",
   "metadata": {},
   "source": [
    "### 作业2\n",
    "  - 抓取糗事百科数据"
   ]
  },
  {
   "cell_type": "code",
   "execution_count": 1,
   "metadata": {},
   "outputs": [],
   "source": [
    "#代码见本目录下‘糗事百科_code.py’"
   ]
  },
  {
   "cell_type": "code",
   "execution_count": null,
   "metadata": {},
   "outputs": [],
   "source": []
  }
 ],
 "metadata": {
  "kernelspec": {
   "display_name": "Python 3",
   "language": "python",
   "name": "python3"
  },
  "language_info": {
   "codemirror_mode": {
    "name": "ipython",
    "version": 3
   },
   "file_extension": ".py",
   "mimetype": "text/x-python",
   "name": "python",
   "nbconvert_exporter": "python",
   "pygments_lexer": "ipython3",
   "version": "3.7.0"
  }
 },
 "nbformat": 4,
 "nbformat_minor": 2
}
