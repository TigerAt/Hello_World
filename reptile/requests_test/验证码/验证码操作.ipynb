{
 "cells": [
  {
   "cell_type": "markdown",
   "metadata": {},
   "source": [
    "### 验证码处理\n",
    "  - 1.手动识别验证码\n",
    "  - 2.云打码平台自动识别验证码\n",
    "### 云打码平台处理验证码实现流程\n",
    "  - 1.对携带验证码的页面数据进行抓取\n",
    "  - 2.可以将页面数据中验证码进行解析，验证码图片下载到本地\n",
    "  - 3.可以将验证码图片提交给三方平台进行识别，返回验证码图片上的数据值\n",
    "    - 云打码平台：\n",
    "      - 1.在官网中进行注册（普通用户和开发者用户）\n",
    "      - 2.登录开发者用户\n",
    "        - 1.实现代码的下载（开发文档->调用实例及最新的DLL->PythonHTTP实例下载）\n",
    "        - 2.创建一个软件（我的软件->添加新软件）\n",
    "      - 3.使用示例代码中的源码文件中的代码进行修改，让其识别验证码图片中的数据值 "
   ]
  },
  {
   "cell_type": "code",
   "execution_count": null,
   "metadata": {},
   "outputs": [],
   "source": []
  }
 ],
 "metadata": {
  "kernelspec": {
   "display_name": "Python 3",
   "language": "python",
   "name": "python3"
  },
  "language_info": {
   "codemirror_mode": {
    "name": "ipython",
    "version": 3
   },
   "file_extension": ".py",
   "mimetype": "text/x-python",
   "name": "python",
   "nbconvert_exporter": "python",
   "pygments_lexer": "ipython3",
   "version": "3.7.0"
  }
 },
 "nbformat": 4,
 "nbformat_minor": 2
}
