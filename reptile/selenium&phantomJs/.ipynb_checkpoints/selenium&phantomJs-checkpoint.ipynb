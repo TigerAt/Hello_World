{
 "cells": [
  {
   "cell_type": "markdown",
   "metadata": {},
   "source": [
    "### 动态页面处理模块selenium\n",
    "  - selenium:三方库。可以实现让浏览器自动化的操作\n",
    "  - 环境安装\n",
    "    - 安装：pip install selenium\n",
    "    - 获取浏览器的驱动程序（chrome为例）\n",
    "      - 下载地址：http://chromedriver.storage.googleapis.com/index.html\n",
    "      - 浏览器版本和驱动版本对应关系表：\n",
    "        http://blog.csdn.net/huilan_same/article/details/51896672"
   ]
  },
  {
   "cell_type": "markdown",
   "metadata": {},
   "source": [
    "### Chrome浏览器编码流程\n",
    "   - from selenium import webdriver #导包\n",
    "   - browser = webdriver.Chrome('驱动路径')  #创建浏览器对象，通过该对象可以操作浏览器\n",
    "   - browser.get(url) #使用浏览器发起指定请求\n",
    "\n",
    "#### 使用下面的方法，查找指定的元素进行操作即可\n",
    "    find_element_by_id         #根据id找节点\n",
    "    find_elements_by_name       #根据name找\n",
    "    find_elements_by_xpath       #根据xpath查找\n",
    "    find_elements_by_tag_name     #根据标签名找\n",
    "    find_elements_by_class_name    #根据class名字查找"
   ]
  },
  {
   "cell_type": "code",
   "execution_count": 7,
   "metadata": {},
   "outputs": [],
   "source": [
    "#编码流程(chrome)\n",
    "from selenium import webdriver\n",
    "from time import sleep\n",
    "#创建一个浏览器对象:executable_path表示驱动的路径\n",
    "bro = webdriver.Chrome(executable_path='./driver/chromedriver.exe')\n",
    "#get方法可以指定一个url，让浏览器进行请求\n",
    "bro.get('https://www.baidu.com')\n",
    "sleep(1)\n",
    "#让百度进行指定词条的一个搜索\n",
    "text = bro.find_element_by_id('kw') #定位到了text文本框\n",
    "text.send_keys('美女')#send_keys表示向文本框中录入指定内容\n",
    "sleep(1)\n",
    "button = bro.find_element_by_id('su')\n",
    "button.click() #click表示的是点击操作\n",
    "sleep(3)\n",
    "bro.quit()#关闭浏览器\n"
   ]
  },
  {
   "cell_type": "markdown",
   "metadata": {},
   "source": [
    "### phantomJs\n",
    "\n",
    "PhantomJS是一款无界面的浏览器，其自动化操作流程和上述操作谷歌浏览器是一致的。由于是无界面的，为了能够展示自动化操作流程，PhantomJS为用户提供了一个截屏的功能，使用save_screenshot函数实现。"
   ]
  },
  {
   "cell_type": "code",
   "execution_count": 15,
   "metadata": {},
   "outputs": [
    {
     "name": "stderr",
     "output_type": "stream",
     "text": [
      "e:\\study\\python\\hello_world_env\\env\\lib\\site-packages\\selenium\\webdriver\\phantomjs\\webdriver.py:49: UserWarning: Selenium support for PhantomJS has been deprecated, please use headless versions of Chrome or Firefox instead\n",
      "  warnings.warn('Selenium support for PhantomJS has been deprecated, please use headless '\n"
     ]
    }
   ],
   "source": [
    "#编码流程(phantomjs)\n",
    "from selenium import webdriver\n",
    "from time import sleep\n",
    "#创建一个浏览器对象:executable_path表示驱动的路径\n",
    "bro = webdriver.PhantomJS(executable_path='./driver/phantomjs-2.1.1-windows/bin/phantomjs.exe')\n",
    "#get方法可以指定一个url，让浏览器进行请求\n",
    "bro.get('https://www.baidu.com')\n",
    "sleep(1)\n",
    "\n",
    "#截屏\n",
    "bro.save_screenshot('./1.png')\n",
    "#让百度进行指定词条的一个搜索\n",
    "text = bro.find_element_by_id('kw') #定位到了text文本框\n",
    "text.send_keys('美女')#send_keys表示向文本框中录入指定内容\n",
    "sleep(1)\n",
    "\n",
    "#截屏\n",
    "bro.save_screenshot('./2.png')\n",
    "button = bro.find_element_by_id('su')\n",
    "button.click() #click表示的是点击操作\n",
    "sleep(3)\n",
    "#截屏\n",
    "bro.save_screenshot('./3.png')\n",
    "\n",
    "bro.quit()#关闭浏览器"
   ]
  },
  {
   "cell_type": "code",
   "execution_count": null,
   "metadata": {},
   "outputs": [],
   "source": []
  }
 ],
 "metadata": {
  "kernelspec": {
   "display_name": "Python 3",
   "language": "python",
   "name": "python3"
  },
  "language_info": {
   "codemirror_mode": {
    "name": "ipython",
    "version": 3
   },
   "file_extension": ".py",
   "mimetype": "text/x-python",
   "name": "python",
   "nbconvert_exporter": "python",
   "pygments_lexer": "ipython3",
   "version": "3.7.0"
  }
 },
 "nbformat": 4,
 "nbformat_minor": 2
}
